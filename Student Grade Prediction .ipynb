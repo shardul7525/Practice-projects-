{
 "cells": [
  {
   "cell_type": "code",
   "execution_count": 2,
   "id": "04876938",
   "metadata": {},
   "outputs": [
    {
     "name": "stdout",
     "output_type": "stream",
     "text": [
      "   Seat No. PH-121 HS-101 CY-105 HS-105/12 MT-111 CS-105 CS-106 EL-102 EE-119  \\\n",
      "0  CS-97001     B-     D+     C-         C     C-     D+      D     C-     B-   \n",
      "1  CS-97002      A      D     D+         D     B-      C      D      A     D+   \n",
      "2  CS-97003      A      B      A        B-     B+      A     B-     B+     A-   \n",
      "3  CS-97004      D     C+     D+         D      D     A-     D+     C-      D   \n",
      "4  CS-97005     A-     A-     A-        B+      A      A     A-     B+      A   \n",
      "\n",
      "   ... CS-312 CS-317 CS-403 CS-421 CS-406 CS-414 CS-419 CS-423 CS-412   CGPA  \n",
      "0  ...     C-     C-     C-     C-     A-      A     C-      B     A-  2.205  \n",
      "1  ...     D+      D      C      D     A-     B-      C      C      B  2.008  \n",
      "2  ...      B      B      A      C      A      A      A     A-      A  3.608  \n",
      "3  ...     D+      C     D+     C-     B-      B     C+     C+     C+  1.906  \n",
      "4  ...     B-     B+     B+     B-     A-      A     A-     A-      A  3.448  \n",
      "\n",
      "[5 rows x 43 columns]\n",
      "Index(['Seat No.', 'PH-121', 'HS-101', 'CY-105', 'HS-105/12', 'MT-111',\n",
      "       'CS-105', 'CS-106', 'EL-102', 'EE-119', 'ME-107', 'CS-107', 'HS-205/20',\n",
      "       'MT-222', 'EE-222', 'MT-224', 'CS-210', 'CS-211', 'CS-203', 'CS-214',\n",
      "       'EE-217', 'CS-212', 'CS-215', 'MT-331', 'EF-303', 'HS-304', 'CS-301',\n",
      "       'CS-302', 'TC-383', 'MT-442', 'EL-332', 'CS-318', 'CS-306', 'CS-312',\n",
      "       'CS-317', 'CS-403', 'CS-421', 'CS-406', 'CS-414', 'CS-419', 'CS-423',\n",
      "       'CS-412', 'CGPA'],\n",
      "      dtype='object')\n",
      "Mean Squared Error:\n",
      "0.02644580009767442\n",
      "\n",
      "R^2 Score:\n",
      "0.9219597634602226\n"
     ]
    }
   ],
   "source": [
    "# Import necessary libraries\n",
    "import pandas as pd\n",
    "from sklearn.model_selection import train_test_split\n",
    "from sklearn.preprocessing import StandardScaler, LabelEncoder\n",
    "from sklearn.ensemble import RandomForestRegressor\n",
    "from sklearn.metrics import mean_squared_error, r2_score\n",
    "\n",
    "# Load the dataset\n",
    "url = \"https://github.com/FlipRoboTechnologies/ML-Datasets/raw/main/Grades/Grades.csv\"\n",
    "df = pd.read_csv(url)\n",
    "\n",
    "# Display the first few rows of the dataframe to understand its structure\n",
    "print(df.head())\n",
    "print(df.columns)\n",
    "\n",
    "# Define feature columns and target column\n",
    "features = df.columns[1:-1]  # All columns except the first one (Seat No) and the last one (CGPA)\n",
    "target = 'CGPA'  # The target column\n",
    "\n",
    "# Encode categorical grades into numerical values\n",
    "label_encoders = {}\n",
    "for column in features:\n",
    "    if df[column].dtype == 'object':\n",
    "        le = LabelEncoder()\n",
    "        df[column] = le.fit_transform(df[column])\n",
    "        label_encoders[column] = le\n",
    "\n",
    "# Split the dataset into features (X) and target (y)\n",
    "X = df[features]\n",
    "y = df[target]\n",
    "\n",
    "# Split the dataset into training and testing sets\n",
    "X_train, X_test, y_train, y_test = train_test_split(X, y, test_size=0.3, random_state=42)\n",
    "\n",
    "# Scale the features\n",
    "scaler = StandardScaler()\n",
    "X_train = scaler.fit_transform(X_train)\n",
    "X_test = scaler.transform(X_test)\n",
    "\n",
    "# Initialize and train the regressor\n",
    "model = RandomForestRegressor(random_state=42)\n",
    "model.fit(X_train, y_train)\n",
    "\n",
    "# Make predictions on the test set\n",
    "y_pred = model.predict(X_test)\n",
    "\n",
    "# Evaluate the model\n",
    "print(\"Mean Squared Error:\")\n",
    "print(mean_squared_error(y_test, y_pred))\n",
    "print(\"\\nR^2 Score:\")\n",
    "print(r2_score(y_test, y_pred))\n"
   ]
  },
  {
   "cell_type": "code",
   "execution_count": null,
   "id": "f7f00635",
   "metadata": {},
   "outputs": [],
   "source": []
  }
 ],
 "metadata": {
  "kernelspec": {
   "display_name": "Python 3 (ipykernel)",
   "language": "python",
   "name": "python3"
  },
  "language_info": {
   "codemirror_mode": {
    "name": "ipython",
    "version": 3
   },
   "file_extension": ".py",
   "mimetype": "text/x-python",
   "name": "python",
   "nbconvert_exporter": "python",
   "pygments_lexer": "ipython3",
   "version": "3.9.7"
  }
 },
 "nbformat": 4,
 "nbformat_minor": 5
}
